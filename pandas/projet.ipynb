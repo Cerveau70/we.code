{
 "cells": [
  {
   "cell_type": "markdown",
   "id": "45570242",
   "metadata": {},
   "source": [
    "## Mini Projet\n",
    "\n",
    "# Analyse des ventes d’une boutique en ligne"
   ]
  },
  {
   "cell_type": "markdown",
   "id": "e75994eb",
   "metadata": {},
   "source": [
    "Nettoyer les données\n",
    "\n",
    "Calculer les ventes par mois\n",
    "\n",
    "Trouver les produits les plus vendus\n",
    "\n",
    "Fusionner les données clients + commandes\n",
    "\n",
    "Analyser les tendances par sexe\n",
    "\n",
    "Et le tout avec NaN, groupby(), merge(), apply(), etc."
   ]
  },
  {
   "cell_type": "markdown",
   "id": "51db21e5",
   "metadata": {},
   "source": [
    "# Creer nos dataframe\n",
    "\n",
    "clients.csv et commandes.csv"
   ]
  },
  {
   "cell_type": "code",
   "execution_count": 34,
   "id": "dc3f296c",
   "metadata": {},
   "outputs": [],
   "source": [
    "import pandas as pd\n",
    "from io import StringIO\n",
    "\n",
    "# Données client (en format CSV texte)\n",
    "data_client = \"\"\"client_id,nom,sexe\n",
    "1,Jean,M\n",
    "2,Awa,F\n",
    "3,Koffi,M\n",
    "4,Mariame,F\n",
    "\"\"\"\n",
    "\n",
    "# Données commande\n",
    "data_commande = \"\"\"commande_id,client_id,date,produit,quantite,prix\n",
    "101,1,2024-01-15,Chaussures,2,15000\n",
    "102,2,2024-02-20,T-shirt,1,5000\n",
    "103,3,2024-02-22,Chaussures,1,15000\n",
    "104,4,2024-03-01,Veste,,20000\n",
    "105,2,2024-03-15,Chaussures,3,15000\n",
    "\"\"\"\n",
    "\n",
    "# Conversion en DataFrame\n",
    "df_client = pd.read_csv(StringIO(data_client))\n",
    "df_commande = pd.read_csv(StringIO(data_commande))\n",
    "\n",
    "df_client.to_csv('client.csv', index=True)\n",
    "df_commande.to_csv('commande.csv', index=True)\n"
   ]
  },
  {
   "cell_type": "markdown",
   "id": "c77e4855",
   "metadata": {},
   "source": [
    "## Nettoyage"
   ]
  },
  {
   "cell_type": "code",
   "execution_count": 35,
   "id": "eb1410b1",
   "metadata": {},
   "outputs": [
    {
     "name": "stdout",
     "output_type": "stream",
     "text": [
      "   client_id      nom sexe\n",
      "0          1     Jean    M\n",
      "1          2      Awa    F\n",
      "2          3    Koffi    M\n",
      "3          4  Mariame    F\n",
      "\n",
      "<class 'pandas.core.frame.DataFrame'>\n",
      "RangeIndex: 4 entries, 0 to 3\n",
      "Data columns (total 3 columns):\n",
      " #   Column     Non-Null Count  Dtype \n",
      "---  ------     --------------  ----- \n",
      " 0   client_id  4 non-null      int64 \n",
      " 1   nom        4 non-null      object\n",
      " 2   sexe       4 non-null      object\n",
      "dtypes: int64(1), object(2)\n",
      "memory usage: 228.0+ bytes\n",
      "None\n"
     ]
    }
   ],
   "source": [
    "print(df_client.head())\n",
    "print()\n",
    "print(df_client.info())\n",
    "\n"
   ]
  },
  {
   "cell_type": "code",
   "execution_count": 36,
   "id": "b3da3716",
   "metadata": {},
   "outputs": [
    {
     "name": "stdout",
     "output_type": "stream",
     "text": [
      "   commande_id  client_id        date     produit  quantite   prix\n",
      "0          101          1  2024-01-15  Chaussures       2.0  15000\n",
      "1          102          2  2024-02-20     T-shirt       1.0   5000\n",
      "2          103          3  2024-02-22  Chaussures       1.0  15000\n",
      "3          104          4  2024-03-01       Veste       NaN  20000\n",
      "4          105          2  2024-03-15  Chaussures       3.0  15000\n",
      "\n",
      "<class 'pandas.core.frame.DataFrame'>\n",
      "RangeIndex: 5 entries, 0 to 4\n",
      "Data columns (total 6 columns):\n",
      " #   Column       Non-Null Count  Dtype  \n",
      "---  ------       --------------  -----  \n",
      " 0   commande_id  5 non-null      int64  \n",
      " 1   client_id    5 non-null      int64  \n",
      " 2   date         5 non-null      object \n",
      " 3   produit      5 non-null      object \n",
      " 4   quantite     4 non-null      float64\n",
      " 5   prix         5 non-null      int64  \n",
      "dtypes: float64(1), int64(3), object(2)\n",
      "memory usage: 372.0+ bytes\n",
      "None\n",
      "\n",
      "commande_id    0\n",
      "client_id      0\n",
      "date           0\n",
      "produit        0\n",
      "quantite       1\n",
      "prix           0\n",
      "dtype: int64\n"
     ]
    }
   ],
   "source": [
    "print(df_commande)\n",
    "print()\n",
    "print(df_commande.info())\n",
    "print()\n",
    "print(df_commande.isna().sum())"
   ]
  },
  {
   "cell_type": "markdown",
   "id": "b64826d8",
   "metadata": {},
   "source": [
    "## Nettoyage du csv commande.csv"
   ]
  },
  {
   "cell_type": "code",
   "execution_count": 50,
   "id": "b2cf7dac",
   "metadata": {},
   "outputs": [
    {
     "name": "stdout",
     "output_type": "stream",
     "text": [
      "commande_id    0\n",
      "client_id      0\n",
      "date           0\n",
      "produit        0\n",
      "quantite       0\n",
      "prix           0\n",
      "dtype: int64\n"
     ]
    },
    {
     "data": {
      "text/html": [
       "<div>\n",
       "<style scoped>\n",
       "    .dataframe tbody tr th:only-of-type {\n",
       "        vertical-align: middle;\n",
       "    }\n",
       "\n",
       "    .dataframe tbody tr th {\n",
       "        vertical-align: top;\n",
       "    }\n",
       "\n",
       "    .dataframe thead th {\n",
       "        text-align: right;\n",
       "    }\n",
       "</style>\n",
       "<table border=\"1\" class=\"dataframe\">\n",
       "  <thead>\n",
       "    <tr style=\"text-align: right;\">\n",
       "      <th></th>\n",
       "      <th>commande_id</th>\n",
       "      <th>client_id</th>\n",
       "      <th>date</th>\n",
       "      <th>produit</th>\n",
       "      <th>quantite</th>\n",
       "      <th>prix</th>\n",
       "    </tr>\n",
       "  </thead>\n",
       "  <tbody>\n",
       "    <tr>\n",
       "      <th>0</th>\n",
       "      <td>101</td>\n",
       "      <td>1</td>\n",
       "      <td>2024-01-15</td>\n",
       "      <td>Chaussures</td>\n",
       "      <td>2.0</td>\n",
       "      <td>15000</td>\n",
       "    </tr>\n",
       "    <tr>\n",
       "      <th>1</th>\n",
       "      <td>102</td>\n",
       "      <td>2</td>\n",
       "      <td>2024-02-20</td>\n",
       "      <td>T-shirt</td>\n",
       "      <td>1.0</td>\n",
       "      <td>5000</td>\n",
       "    </tr>\n",
       "    <tr>\n",
       "      <th>2</th>\n",
       "      <td>103</td>\n",
       "      <td>3</td>\n",
       "      <td>2024-02-22</td>\n",
       "      <td>Chaussures</td>\n",
       "      <td>1.0</td>\n",
       "      <td>15000</td>\n",
       "    </tr>\n",
       "    <tr>\n",
       "      <th>3</th>\n",
       "      <td>104</td>\n",
       "      <td>4</td>\n",
       "      <td>2024-03-01</td>\n",
       "      <td>Veste</td>\n",
       "      <td>0.0</td>\n",
       "      <td>20000</td>\n",
       "    </tr>\n",
       "    <tr>\n",
       "      <th>4</th>\n",
       "      <td>105</td>\n",
       "      <td>2</td>\n",
       "      <td>2024-03-15</td>\n",
       "      <td>Chaussures</td>\n",
       "      <td>3.0</td>\n",
       "      <td>15000</td>\n",
       "    </tr>\n",
       "  </tbody>\n",
       "</table>\n",
       "</div>"
      ],
      "text/plain": [
       "   commande_id  client_id        date     produit  quantite   prix\n",
       "0          101          1  2024-01-15  Chaussures       2.0  15000\n",
       "1          102          2  2024-02-20     T-shirt       1.0   5000\n",
       "2          103          3  2024-02-22  Chaussures       1.0  15000\n",
       "3          104          4  2024-03-01       Veste       0.0  20000\n",
       "4          105          2  2024-03-15  Chaussures       3.0  15000"
      ]
     },
     "execution_count": 50,
     "metadata": {},
     "output_type": "execute_result"
    }
   ],
   "source": [
    "df_commande = df_commande.fillna(0)\n",
    "print(df_commande.isna().sum())\n",
    "df_commande"
   ]
  },
  {
   "cell_type": "markdown",
   "id": "98550be2",
   "metadata": {},
   "source": [
    "## Calculer le montant de chaque commande"
   ]
  },
  {
   "cell_type": "code",
   "execution_count": 42,
   "id": "69ec5f38",
   "metadata": {},
   "outputs": [
    {
     "name": "stdout",
     "output_type": "stream",
     "text": [
      "colonnes des commande: Index(['commande_id', 'client_id', 'date', 'produit', 'quantite', 'prix'], dtype='object')\n",
      "colonnes des clients: Index(['client_id', 'nom', 'sexe'], dtype='object')\n"
     ]
    }
   ],
   "source": [
    "print(f\"colonnes des commande: {df_commande.columns}\")\n",
    "print(f\"colonnes des clients: {df_client.columns}\")"
   ]
  },
  {
   "cell_type": "code",
   "execution_count": 52,
   "id": "ec7e7885",
   "metadata": {},
   "outputs": [
    {
     "data": {
      "text/html": [
       "<div>\n",
       "<style scoped>\n",
       "    .dataframe tbody tr th:only-of-type {\n",
       "        vertical-align: middle;\n",
       "    }\n",
       "\n",
       "    .dataframe tbody tr th {\n",
       "        vertical-align: top;\n",
       "    }\n",
       "\n",
       "    .dataframe thead th {\n",
       "        text-align: right;\n",
       "    }\n",
       "</style>\n",
       "<table border=\"1\" class=\"dataframe\">\n",
       "  <thead>\n",
       "    <tr style=\"text-align: right;\">\n",
       "      <th></th>\n",
       "      <th>commande_id</th>\n",
       "      <th>client_id</th>\n",
       "      <th>date</th>\n",
       "      <th>produit</th>\n",
       "      <th>quantite</th>\n",
       "      <th>prix</th>\n",
       "      <th>montant_total</th>\n",
       "    </tr>\n",
       "  </thead>\n",
       "  <tbody>\n",
       "    <tr>\n",
       "      <th>0</th>\n",
       "      <td>101</td>\n",
       "      <td>1</td>\n",
       "      <td>2024-01-15</td>\n",
       "      <td>Chaussures</td>\n",
       "      <td>2.0</td>\n",
       "      <td>15000</td>\n",
       "      <td>30000.0</td>\n",
       "    </tr>\n",
       "    <tr>\n",
       "      <th>1</th>\n",
       "      <td>102</td>\n",
       "      <td>2</td>\n",
       "      <td>2024-02-20</td>\n",
       "      <td>T-shirt</td>\n",
       "      <td>1.0</td>\n",
       "      <td>5000</td>\n",
       "      <td>5000.0</td>\n",
       "    </tr>\n",
       "    <tr>\n",
       "      <th>2</th>\n",
       "      <td>103</td>\n",
       "      <td>3</td>\n",
       "      <td>2024-02-22</td>\n",
       "      <td>Chaussures</td>\n",
       "      <td>1.0</td>\n",
       "      <td>15000</td>\n",
       "      <td>15000.0</td>\n",
       "    </tr>\n",
       "    <tr>\n",
       "      <th>3</th>\n",
       "      <td>104</td>\n",
       "      <td>4</td>\n",
       "      <td>2024-03-01</td>\n",
       "      <td>Veste</td>\n",
       "      <td>0.0</td>\n",
       "      <td>20000</td>\n",
       "      <td>0.0</td>\n",
       "    </tr>\n",
       "    <tr>\n",
       "      <th>4</th>\n",
       "      <td>105</td>\n",
       "      <td>2</td>\n",
       "      <td>2024-03-15</td>\n",
       "      <td>Chaussures</td>\n",
       "      <td>3.0</td>\n",
       "      <td>15000</td>\n",
       "      <td>45000.0</td>\n",
       "    </tr>\n",
       "  </tbody>\n",
       "</table>\n",
       "</div>"
      ],
      "text/plain": [
       "   commande_id  client_id        date     produit  quantite   prix  \\\n",
       "0          101          1  2024-01-15  Chaussures       2.0  15000   \n",
       "1          102          2  2024-02-20     T-shirt       1.0   5000   \n",
       "2          103          3  2024-02-22  Chaussures       1.0  15000   \n",
       "3          104          4  2024-03-01       Veste       0.0  20000   \n",
       "4          105          2  2024-03-15  Chaussures       3.0  15000   \n",
       "\n",
       "   montant_total  \n",
       "0        30000.0  \n",
       "1         5000.0  \n",
       "2        15000.0  \n",
       "3            0.0  \n",
       "4        45000.0  "
      ]
     },
     "execution_count": 52,
     "metadata": {},
     "output_type": "execute_result"
    }
   ],
   "source": [
    "df_commande['montant_total'] = df_commande['quantite']*df_commande['prix']\n",
    "df_commande"
   ]
  },
  {
   "cell_type": "markdown",
   "id": "ac713511",
   "metadata": {},
   "source": [
    "## convertir la date au format Anne-Mois-Jours"
   ]
  },
  {
   "cell_type": "code",
   "execution_count": 54,
   "id": "502da812",
   "metadata": {},
   "outputs": [
    {
     "data": {
      "text/html": [
       "<div>\n",
       "<style scoped>\n",
       "    .dataframe tbody tr th:only-of-type {\n",
       "        vertical-align: middle;\n",
       "    }\n",
       "\n",
       "    .dataframe tbody tr th {\n",
       "        vertical-align: top;\n",
       "    }\n",
       "\n",
       "    .dataframe thead th {\n",
       "        text-align: right;\n",
       "    }\n",
       "</style>\n",
       "<table border=\"1\" class=\"dataframe\">\n",
       "  <thead>\n",
       "    <tr style=\"text-align: right;\">\n",
       "      <th></th>\n",
       "      <th>commande_id</th>\n",
       "      <th>client_id</th>\n",
       "      <th>date</th>\n",
       "      <th>produit</th>\n",
       "      <th>quantite</th>\n",
       "      <th>prix</th>\n",
       "      <th>montant_total</th>\n",
       "    </tr>\n",
       "  </thead>\n",
       "  <tbody>\n",
       "    <tr>\n",
       "      <th>0</th>\n",
       "      <td>101</td>\n",
       "      <td>1</td>\n",
       "      <td>2024-01-15</td>\n",
       "      <td>Chaussures</td>\n",
       "      <td>2.0</td>\n",
       "      <td>15000</td>\n",
       "      <td>30000.0</td>\n",
       "    </tr>\n",
       "    <tr>\n",
       "      <th>1</th>\n",
       "      <td>102</td>\n",
       "      <td>2</td>\n",
       "      <td>2024-02-20</td>\n",
       "      <td>T-shirt</td>\n",
       "      <td>1.0</td>\n",
       "      <td>5000</td>\n",
       "      <td>5000.0</td>\n",
       "    </tr>\n",
       "    <tr>\n",
       "      <th>2</th>\n",
       "      <td>103</td>\n",
       "      <td>3</td>\n",
       "      <td>2024-02-22</td>\n",
       "      <td>Chaussures</td>\n",
       "      <td>1.0</td>\n",
       "      <td>15000</td>\n",
       "      <td>15000.0</td>\n",
       "    </tr>\n",
       "    <tr>\n",
       "      <th>3</th>\n",
       "      <td>104</td>\n",
       "      <td>4</td>\n",
       "      <td>2024-03-01</td>\n",
       "      <td>Veste</td>\n",
       "      <td>0.0</td>\n",
       "      <td>20000</td>\n",
       "      <td>0.0</td>\n",
       "    </tr>\n",
       "    <tr>\n",
       "      <th>4</th>\n",
       "      <td>105</td>\n",
       "      <td>2</td>\n",
       "      <td>2024-03-15</td>\n",
       "      <td>Chaussures</td>\n",
       "      <td>3.0</td>\n",
       "      <td>15000</td>\n",
       "      <td>45000.0</td>\n",
       "    </tr>\n",
       "  </tbody>\n",
       "</table>\n",
       "</div>"
      ],
      "text/plain": [
       "   commande_id  client_id       date     produit  quantite   prix  \\\n",
       "0          101          1 2024-01-15  Chaussures       2.0  15000   \n",
       "1          102          2 2024-02-20     T-shirt       1.0   5000   \n",
       "2          103          3 2024-02-22  Chaussures       1.0  15000   \n",
       "3          104          4 2024-03-01       Veste       0.0  20000   \n",
       "4          105          2 2024-03-15  Chaussures       3.0  15000   \n",
       "\n",
       "   montant_total  \n",
       "0        30000.0  \n",
       "1         5000.0  \n",
       "2        15000.0  \n",
       "3            0.0  \n",
       "4        45000.0  "
      ]
     },
     "execution_count": 54,
     "metadata": {},
     "output_type": "execute_result"
    }
   ],
   "source": [
    "df_commande['date'] = pd.to_datetime(df_commande['date'], format='%Y-%m-%d')\n",
    "df_commande"
   ]
  },
  {
   "cell_type": "markdown",
   "id": "5c007456",
   "metadata": {},
   "source": []
  }
 ],
 "metadata": {
  "kernelspec": {
   "display_name": ".venv",
   "language": "python",
   "name": "python3"
  },
  "language_info": {
   "codemirror_mode": {
    "name": "ipython",
    "version": 3
   },
   "file_extension": ".py",
   "mimetype": "text/x-python",
   "name": "python",
   "nbconvert_exporter": "python",
   "pygments_lexer": "ipython3",
   "version": "3.13.3"
  }
 },
 "nbformat": 4,
 "nbformat_minor": 5
}
