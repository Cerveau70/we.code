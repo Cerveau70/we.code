{
 "cells": [
  {
   "cell_type": "markdown",
   "id": "45570242",
   "metadata": {},
   "source": [
    "## Mini Projet\n",
    "\n",
    "# Analyse des ventes d’une boutique en ligne"
   ]
  },
  {
   "cell_type": "markdown",
   "id": "e75994eb",
   "metadata": {},
   "source": [
    "Nettoyer les données\n",
    "\n",
    "Calculer les ventes par mois\n",
    "\n",
    "Trouver les produits les plus vendus\n",
    "\n",
    "Fusionner les données clients + commandes\n",
    "\n",
    "Analyser les tendances par sexe\n",
    "\n",
    "Et le tout avec NaN, groupby(), merge(), apply(), etc."
   ]
  },
  {
   "cell_type": "markdown",
   "id": "51db21e5",
   "metadata": {},
   "source": [
    "# Creer nos dataframe\n",
    "\n",
    "clients.csv et commandes.csv"
   ]
  },
  {
   "cell_type": "code",
   "execution_count": 9,
   "id": "dc3f296c",
   "metadata": {},
   "outputs": [],
   "source": [
    "import pandas as pd\n",
    "from io import StringIO\n",
    "\n",
    "# Données client (en format CSV texte)\n",
    "data_client = \"\"\"client_id,nom,sexe\n",
    "1,Jean,M\n",
    "2,Awa,F\n",
    "3,Koffi,M\n",
    "4,Mariame,F\n",
    "\"\"\"\n",
    "\n",
    "# Données commande\n",
    "data_commande = \"\"\"commande_id,client_id,date,produit,quantite,prix\n",
    "101,1,2024-01-15,Chaussures,2,15000\n",
    "102,2,2024-02-20,T-shirt,1,5000\n",
    "103,3,2024-02-22,Chaussures,1,15000\n",
    "104,4,2024-03-01,Veste,,20000\n",
    "105,2,2024-03-15,Chaussures,3,15000\n",
    "\"\"\"\n",
    "\n",
    "# Conversion en DataFrame\n",
    "df_client = pd.read_csv(StringIO(data_client))\n",
    "df_commande = pd.read_csv(StringIO(data_commande))\n",
    "\n",
    "df_client.to_csv('client.csv', index=True)\n",
    "df_commande.to_csv('commande.csv', index=True)\n"
   ]
  }
 ],
 "metadata": {
  "kernelspec": {
   "display_name": ".venv",
   "language": "python",
   "name": "python3"
  },
  "language_info": {
   "codemirror_mode": {
    "name": "ipython",
    "version": 3
   },
   "file_extension": ".py",
   "mimetype": "text/x-python",
   "name": "python",
   "nbconvert_exporter": "python",
   "pygments_lexer": "ipython3",
   "version": "3.13.3"
  }
 },
 "nbformat": 4,
 "nbformat_minor": 5
}
