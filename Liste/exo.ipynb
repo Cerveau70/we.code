{
 "cells": [
  {
   "cell_type": "markdown",
   "id": "24a2d3e5",
   "metadata": {},
   "source": [
    "## liste"
   ]
  },
  {
   "cell_type": "markdown",
   "id": "93aae446",
   "metadata": {},
   "source": [
    "## ## Exercice 01"
   ]
  },
  {
   "cell_type": "code",
   "execution_count": null,
   "id": "567edeb8",
   "metadata": {},
   "outputs": [],
   "source": []
  }
 ],
 "metadata": {
  "kernelspec": {
   "display_name": ".venv",
   "language": "python",
   "name": "python3"
  },
  "language_info": {
   "name": "python",
   "version": "3.13.3"
  }
 },
 "nbformat": 4,
 "nbformat_minor": 5
}
