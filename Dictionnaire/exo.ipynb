{
 "cells": [
  {
   "cell_type": "markdown",
   "id": "b473a10f",
   "metadata": {},
   "source": [
    "## Questions types (sources fiables, testées en piscines ou examens data/IA) sur les dicts"
   ]
  },
  {
   "cell_type": "markdown",
   "id": "96baf7c2",
   "metadata": {},
   "source": [
    "Compter la fréquence des mots dans un texte\n",
    "\n",
    "    Entrée: chaîne de caractères\n",
    "\n",
    "    Sortie: dictionnaire {mot: fréquence}\n",
    "\n",
    "    Méthodes clés: get, items"
   ]
  },
  {
   "cell_type": "code",
   "execution_count": 23,
   "id": "fef959bf",
   "metadata": {},
   "outputs": [
    {
     "name": "stdout",
     "output_type": "stream",
     "text": [
      "Le nombre d'occurences de chaque caractère est :\n",
      "a : 3\n",
      "l : 3\n",
      "o : 2\n",
      "m : 1\n",
      "  : 9\n",
      "t : 4\n",
      "u : 3\n",
      "e : 4\n",
      "s : 3\n",
      "f : 1\n",
      "r : 1\n",
      "p : 1\n",
      "i : 2\n",
      "c : 2\n",
      "n : 1\n",
      "' : 1\n",
      "d : 1\n",
      "j : 1\n",
      "v : 1\n",
      "x : 1\n"
     ]
    }
   ],
   "source": [
    "from collections import Counter as ct\n",
    "\n",
    "def counterOccur(texte):\n",
    "  return ct(texte)\n",
    "\n",
    "def main():\n",
    "  texte = input(\"Entrer le texte : \")\n",
    "  compteur = counterOccur(texte)\n",
    "  print(\"Le nombre d'occurences de chaque caractère est :\")\n",
    "  for caractere, occurence in compteur.items():\n",
    "    print(f\"{caractere} : {occurence}\") \n",
    "\n",
    "main()\n",
    "  "
   ]
  },
  {
   "cell_type": "code",
   "execution_count": 28,
   "id": "98e6f33a",
   "metadata": {},
   "outputs": [
    {
     "name": "stdout",
     "output_type": "stream",
     "text": [
      "{'a': 2, 'l': 2, 'o': 1, 'm': 1}\n"
     ]
    }
   ],
   "source": [
    "def compteOccur2(texte):\n",
    "  occur = {}\n",
    "  for  c in texte:\n",
    "    if c in occur: \n",
    "      occur[c] += 1\n",
    "    else :\n",
    "      occur[c] = 1\n",
    "  return occur\n",
    "\n",
    "print(compteOccur(\"alloma\"))"
   ]
  },
  {
   "cell_type": "code",
   "execution_count": 29,
   "id": "7c260a2d",
   "metadata": {},
   "outputs": [
    {
     "data": {
      "text/plain": [
       "{'a': 2, 'l': 2, 'o': 1, 'm': 1}"
      ]
     },
     "execution_count": 29,
     "metadata": {},
     "output_type": "execute_result"
    }
   ],
   "source": [
    "def compteOccure3(texte):\n",
    "  occur = {}\n",
    "  for c in texte:\n",
    "    if c in occur:\n",
    "      occur[c] = occur.get(c, o)+1\n",
    "  return occur\n",
    "compteOccur(\"alloma\")"
   ]
  },
  {
   "cell_type": "markdown",
   "id": "60addc98",
   "metadata": {},
   "source": [
    "Inverser un dictionnaire (groupement par valeurs)\n",
    "\n",
    "    Ex: dico {clé: valeur} → {valeur: [liste des clés]}\n",
    "\n",
    "    Méthodes clés: setdefault, items"
   ]
  },
  {
   "cell_type": "code",
   "execution_count": null,
   "id": "039fd93b",
   "metadata": {},
   "outputs": [
    {
     "data": {
      "text/plain": [
       "Counter({'a': 2, 'l': 2, 'o': 1, 'm': 1})"
      ]
     },
     "execution_count": 21,
     "metadata": {},
     "output_type": "execute_result"
    }
   ],
   "source": []
  },
  {
   "cell_type": "markdown",
   "id": "25a96988",
   "metadata": {},
   "source": [
    "Trier un dictionnaire par valeurs décroissantes\n",
    "\n",
    "    Ex: Top N mots les plus fréquents\n",
    "\n",
    "    Méthodes clés: sorted, items"
   ]
  },
  {
   "cell_type": "code",
   "execution_count": null,
   "id": "c11874f8",
   "metadata": {},
   "outputs": [],
   "source": []
  },
  {
   "cell_type": "markdown",
   "id": "45a9d77a",
   "metadata": {},
   "source": [
    "Fusionner plusieurs dictionnaires de résultats\n",
    "\n",
    "    Ex: Combiner plusieurs résultats partiels\n",
    "\n",
    "    Méthodes clés: update"
   ]
  },
  {
   "cell_type": "code",
   "execution_count": null,
   "id": "f52765a0",
   "metadata": {},
   "outputs": [],
   "source": []
  },
  {
   "cell_type": "markdown",
   "id": "5c3bdd3d",
   "metadata": {},
   "source": [
    "Filtrer un dictionnaire selon une condition sur les valeurs\n",
    "\n",
    "    Ex: garder les mots dont la fréquence > seuil\n",
    "\n",
    "    Méthodes clés: compréhension de dict, items"
   ]
  },
  {
   "cell_type": "code",
   "execution_count": 1,
   "id": "2a9147e2",
   "metadata": {},
   "outputs": [
    {
     "name": "stdout",
     "output_type": "stream",
     "text": [
      "      Nom  Âge  Note\n",
      "0  Alloma   21  18.5\n",
      "1     Luc   22  17.2\n",
      "2  Neymar   32  19.7\n"
     ]
    }
   ],
   "source": [
    "import pandas as pd\n",
    "\n",
    "\n",
    "data = {\n",
    "    'Nom': ['Alloma', 'Luc', 'Neymar'],\n",
    "    'Âge': [21, 22, 32],\n",
    "    'Note': [18.5, 17.2, 19.7]\n",
    "}\n",
    "\n",
    "df = pd.DataFrame(data)\n",
    "print(df)"
   ]
  },
  {
   "cell_type": "code",
   "execution_count": 2,
   "id": "5027c214",
   "metadata": {},
   "outputs": [
    {
     "data": {
      "text/html": [
       "<div>\n",
       "<style scoped>\n",
       "    .dataframe tbody tr th:only-of-type {\n",
       "        vertical-align: middle;\n",
       "    }\n",
       "\n",
       "    .dataframe tbody tr th {\n",
       "        vertical-align: top;\n",
       "    }\n",
       "\n",
       "    .dataframe thead th {\n",
       "        text-align: right;\n",
       "    }\n",
       "</style>\n",
       "<table border=\"1\" class=\"dataframe\">\n",
       "  <thead>\n",
       "    <tr style=\"text-align: right;\">\n",
       "      <th></th>\n",
       "      <th>Nom</th>\n",
       "      <th>Âge</th>\n",
       "      <th>Note</th>\n",
       "    </tr>\n",
       "  </thead>\n",
       "  <tbody>\n",
       "    <tr>\n",
       "      <th>0</th>\n",
       "      <td>Alloma</td>\n",
       "      <td>21</td>\n",
       "      <td>18.5</td>\n",
       "    </tr>\n",
       "    <tr>\n",
       "      <th>1</th>\n",
       "      <td>Luc</td>\n",
       "      <td>22</td>\n",
       "      <td>17.2</td>\n",
       "    </tr>\n",
       "    <tr>\n",
       "      <th>2</th>\n",
       "      <td>Neymar</td>\n",
       "      <td>32</td>\n",
       "      <td>19.7</td>\n",
       "    </tr>\n",
       "  </tbody>\n",
       "</table>\n",
       "</div>"
      ],
      "text/plain": [
       "      Nom  Âge  Note\n",
       "0  Alloma   21  18.5\n",
       "1     Luc   22  17.2\n",
       "2  Neymar   32  19.7"
      ]
     },
     "execution_count": 2,
     "metadata": {},
     "output_type": "execute_result"
    }
   ],
   "source": [
    "df.head()"
   ]
  },
  {
   "cell_type": "code",
   "execution_count": 3,
   "id": "f5e171c8",
   "metadata": {},
   "outputs": [
    {
     "data": {
      "text/html": [
       "<div>\n",
       "<style scoped>\n",
       "    .dataframe tbody tr th:only-of-type {\n",
       "        vertical-align: middle;\n",
       "    }\n",
       "\n",
       "    .dataframe tbody tr th {\n",
       "        vertical-align: top;\n",
       "    }\n",
       "\n",
       "    .dataframe thead th {\n",
       "        text-align: right;\n",
       "    }\n",
       "</style>\n",
       "<table border=\"1\" class=\"dataframe\">\n",
       "  <thead>\n",
       "    <tr style=\"text-align: right;\">\n",
       "      <th></th>\n",
       "      <th>Nom</th>\n",
       "      <th>Âge</th>\n",
       "      <th>Note</th>\n",
       "    </tr>\n",
       "  </thead>\n",
       "  <tbody>\n",
       "    <tr>\n",
       "      <th>1</th>\n",
       "      <td>Luc</td>\n",
       "      <td>22</td>\n",
       "      <td>17.2</td>\n",
       "    </tr>\n",
       "    <tr>\n",
       "      <th>2</th>\n",
       "      <td>Neymar</td>\n",
       "      <td>32</td>\n",
       "      <td>19.7</td>\n",
       "    </tr>\n",
       "  </tbody>\n",
       "</table>\n",
       "</div>"
      ],
      "text/plain": [
       "      Nom  Âge  Note\n",
       "1     Luc   22  17.2\n",
       "2  Neymar   32  19.7"
      ]
     },
     "execution_count": 3,
     "metadata": {},
     "output_type": "execute_result"
    }
   ],
   "source": [
    "df.tail(2)"
   ]
  },
  {
   "cell_type": "code",
   "execution_count": 6,
   "id": "ca23093d",
   "metadata": {},
   "outputs": [
    {
     "data": {
      "text/plain": [
       "(3, 3)"
      ]
     },
     "execution_count": 6,
     "metadata": {},
     "output_type": "execute_result"
    }
   ],
   "source": [
    "df.shape"
   ]
  },
  {
   "cell_type": "code",
   "execution_count": 7,
   "id": "4d02549f",
   "metadata": {},
   "outputs": [
    {
     "data": {
      "text/plain": [
       "Index(['Nom', 'Âge', 'Note'], dtype='object')"
      ]
     },
     "execution_count": 7,
     "metadata": {},
     "output_type": "execute_result"
    }
   ],
   "source": [
    "df.columns"
   ]
  },
  {
   "cell_type": "code",
   "execution_count": 8,
   "id": "4c0cb564",
   "metadata": {},
   "outputs": [
    {
     "name": "stdout",
     "output_type": "stream",
     "text": [
      "<class 'pandas.core.frame.DataFrame'>\n",
      "RangeIndex: 3 entries, 0 to 2\n",
      "Data columns (total 3 columns):\n",
      " #   Column  Non-Null Count  Dtype  \n",
      "---  ------  --------------  -----  \n",
      " 0   Nom     3 non-null      object \n",
      " 1   Âge     3 non-null      int64  \n",
      " 2   Note    3 non-null      float64\n",
      "dtypes: float64(1), int64(1), object(1)\n",
      "memory usage: 204.0+ bytes\n"
     ]
    }
   ],
   "source": [
    "df.info()"
   ]
  },
  {
   "cell_type": "code",
   "execution_count": 10,
   "id": "9d0eb45b",
   "metadata": {},
   "outputs": [
    {
     "data": {
      "text/html": [
       "<div>\n",
       "<style scoped>\n",
       "    .dataframe tbody tr th:only-of-type {\n",
       "        vertical-align: middle;\n",
       "    }\n",
       "\n",
       "    .dataframe tbody tr th {\n",
       "        vertical-align: top;\n",
       "    }\n",
       "\n",
       "    .dataframe thead th {\n",
       "        text-align: right;\n",
       "    }\n",
       "</style>\n",
       "<table border=\"1\" class=\"dataframe\">\n",
       "  <thead>\n",
       "    <tr style=\"text-align: right;\">\n",
       "      <th></th>\n",
       "      <th>Âge</th>\n",
       "      <th>Note</th>\n",
       "    </tr>\n",
       "  </thead>\n",
       "  <tbody>\n",
       "    <tr>\n",
       "      <th>count</th>\n",
       "      <td>3.000000</td>\n",
       "      <td>3.000000</td>\n",
       "    </tr>\n",
       "    <tr>\n",
       "      <th>mean</th>\n",
       "      <td>25.000000</td>\n",
       "      <td>18.466667</td>\n",
       "    </tr>\n",
       "    <tr>\n",
       "      <th>std</th>\n",
       "      <td>6.082763</td>\n",
       "      <td>1.250333</td>\n",
       "    </tr>\n",
       "    <tr>\n",
       "      <th>min</th>\n",
       "      <td>21.000000</td>\n",
       "      <td>17.200000</td>\n",
       "    </tr>\n",
       "    <tr>\n",
       "      <th>25%</th>\n",
       "      <td>21.500000</td>\n",
       "      <td>17.850000</td>\n",
       "    </tr>\n",
       "    <tr>\n",
       "      <th>50%</th>\n",
       "      <td>22.000000</td>\n",
       "      <td>18.500000</td>\n",
       "    </tr>\n",
       "    <tr>\n",
       "      <th>75%</th>\n",
       "      <td>27.000000</td>\n",
       "      <td>19.100000</td>\n",
       "    </tr>\n",
       "    <tr>\n",
       "      <th>max</th>\n",
       "      <td>32.000000</td>\n",
       "      <td>19.700000</td>\n",
       "    </tr>\n",
       "  </tbody>\n",
       "</table>\n",
       "</div>"
      ],
      "text/plain": [
       "             Âge       Note\n",
       "count   3.000000   3.000000\n",
       "mean   25.000000  18.466667\n",
       "std     6.082763   1.250333\n",
       "min    21.000000  17.200000\n",
       "25%    21.500000  17.850000\n",
       "50%    22.000000  18.500000\n",
       "75%    27.000000  19.100000\n",
       "max    32.000000  19.700000"
      ]
     },
     "execution_count": 10,
     "metadata": {},
     "output_type": "execute_result"
    }
   ],
   "source": [
    "df.describe()"
   ]
  },
  {
   "cell_type": "code",
   "execution_count": 11,
   "id": "36624b65",
   "metadata": {},
   "outputs": [
    {
     "data": {
      "text/plain": [
       "0    Alloma\n",
       "1       Luc\n",
       "2    Neymar\n",
       "Name: Nom, dtype: object"
      ]
     },
     "execution_count": 11,
     "metadata": {},
     "output_type": "execute_result"
    }
   ],
   "source": [
    "df['Nom']"
   ]
  },
  {
   "cell_type": "code",
   "execution_count": 13,
   "id": "002f8942",
   "metadata": {},
   "outputs": [
    {
     "data": {
      "text/plain": [
       "0    21\n",
       "1    22\n",
       "2    32\n",
       "Name: Âge, dtype: int64"
      ]
     },
     "execution_count": 13,
     "metadata": {},
     "output_type": "execute_result"
    }
   ],
   "source": [
    "df['Âge']"
   ]
  },
  {
   "cell_type": "code",
   "execution_count": 15,
   "id": "010a37a3",
   "metadata": {},
   "outputs": [
    {
     "data": {
      "text/html": [
       "<div>\n",
       "<style scoped>\n",
       "    .dataframe tbody tr th:only-of-type {\n",
       "        vertical-align: middle;\n",
       "    }\n",
       "\n",
       "    .dataframe tbody tr th {\n",
       "        vertical-align: top;\n",
       "    }\n",
       "\n",
       "    .dataframe thead th {\n",
       "        text-align: right;\n",
       "    }\n",
       "</style>\n",
       "<table border=\"1\" class=\"dataframe\">\n",
       "  <thead>\n",
       "    <tr style=\"text-align: right;\">\n",
       "      <th></th>\n",
       "      <th>Nom</th>\n",
       "      <th>Âge</th>\n",
       "    </tr>\n",
       "  </thead>\n",
       "  <tbody>\n",
       "    <tr>\n",
       "      <th>0</th>\n",
       "      <td>Alloma</td>\n",
       "      <td>21</td>\n",
       "    </tr>\n",
       "    <tr>\n",
       "      <th>1</th>\n",
       "      <td>Luc</td>\n",
       "      <td>22</td>\n",
       "    </tr>\n",
       "    <tr>\n",
       "      <th>2</th>\n",
       "      <td>Neymar</td>\n",
       "      <td>32</td>\n",
       "    </tr>\n",
       "  </tbody>\n",
       "</table>\n",
       "</div>"
      ],
      "text/plain": [
       "      Nom  Âge\n",
       "0  Alloma   21\n",
       "1     Luc   22\n",
       "2  Neymar   32"
      ]
     },
     "execution_count": 15,
     "metadata": {},
     "output_type": "execute_result"
    }
   ],
   "source": [
    "df[['Nom', 'Âge']]"
   ]
  },
  {
   "cell_type": "code",
   "execution_count": 17,
   "id": "664de03d",
   "metadata": {},
   "outputs": [
    {
     "data": {
      "text/plain": [
       "Nom     Alloma\n",
       "Âge         21\n",
       "Note      18.5\n",
       "Name: 0, dtype: object"
      ]
     },
     "execution_count": 17,
     "metadata": {},
     "output_type": "execute_result"
    }
   ],
   "source": [
    "df.loc[0]"
   ]
  },
  {
   "cell_type": "code",
   "execution_count": 18,
   "id": "303afc24",
   "metadata": {},
   "outputs": [
    {
     "data": {
      "text/plain": [
       "Nom     Alloma\n",
       "Âge         21\n",
       "Note      18.5\n",
       "Name: 0, dtype: object"
      ]
     },
     "execution_count": 18,
     "metadata": {},
     "output_type": "execute_result"
    }
   ],
   "source": [
    "df.iloc[0]"
   ]
  },
  {
   "cell_type": "code",
   "execution_count": 22,
   "id": "64ab2394",
   "metadata": {},
   "outputs": [
    {
     "data": {
      "text/html": [
       "<div>\n",
       "<style scoped>\n",
       "    .dataframe tbody tr th:only-of-type {\n",
       "        vertical-align: middle;\n",
       "    }\n",
       "\n",
       "    .dataframe tbody tr th {\n",
       "        vertical-align: top;\n",
       "    }\n",
       "\n",
       "    .dataframe thead th {\n",
       "        text-align: right;\n",
       "    }\n",
       "</style>\n",
       "<table border=\"1\" class=\"dataframe\">\n",
       "  <thead>\n",
       "    <tr style=\"text-align: right;\">\n",
       "      <th></th>\n",
       "      <th>Nom</th>\n",
       "      <th>Âge</th>\n",
       "      <th>Note</th>\n",
       "    </tr>\n",
       "  </thead>\n",
       "  <tbody>\n",
       "    <tr>\n",
       "      <th>0</th>\n",
       "      <td>Alloma</td>\n",
       "      <td>21</td>\n",
       "      <td>18.5</td>\n",
       "    </tr>\n",
       "    <tr>\n",
       "      <th>1</th>\n",
       "      <td>Luc</td>\n",
       "      <td>22</td>\n",
       "      <td>17.2</td>\n",
       "    </tr>\n",
       "    <tr>\n",
       "      <th>2</th>\n",
       "      <td>Neymar</td>\n",
       "      <td>32</td>\n",
       "      <td>19.7</td>\n",
       "    </tr>\n",
       "  </tbody>\n",
       "</table>\n",
       "</div>"
      ],
      "text/plain": [
       "      Nom  Âge  Note\n",
       "0  Alloma   21  18.5\n",
       "1     Luc   22  17.2\n",
       "2  Neymar   32  19.7"
      ]
     },
     "execution_count": 22,
     "metadata": {},
     "output_type": "execute_result"
    }
   ],
   "source": [
    "df[df['Âge'] > 1]"
   ]
  },
  {
   "cell_type": "code",
   "execution_count": 24,
   "id": "1cc822e9",
   "metadata": {},
   "outputs": [
    {
     "data": {
      "text/html": [
       "<div>\n",
       "<style scoped>\n",
       "    .dataframe tbody tr th:only-of-type {\n",
       "        vertical-align: middle;\n",
       "    }\n",
       "\n",
       "    .dataframe tbody tr th {\n",
       "        vertical-align: top;\n",
       "    }\n",
       "\n",
       "    .dataframe thead th {\n",
       "        text-align: right;\n",
       "    }\n",
       "</style>\n",
       "<table border=\"1\" class=\"dataframe\">\n",
       "  <thead>\n",
       "    <tr style=\"text-align: right;\">\n",
       "      <th></th>\n",
       "      <th>Nom</th>\n",
       "      <th>Âge</th>\n",
       "      <th>Note</th>\n",
       "    </tr>\n",
       "  </thead>\n",
       "  <tbody>\n",
       "    <tr>\n",
       "      <th>1</th>\n",
       "      <td>Luc</td>\n",
       "      <td>22</td>\n",
       "      <td>17.2</td>\n",
       "    </tr>\n",
       "    <tr>\n",
       "      <th>2</th>\n",
       "      <td>Neymar</td>\n",
       "      <td>32</td>\n",
       "      <td>19.7</td>\n",
       "    </tr>\n",
       "  </tbody>\n",
       "</table>\n",
       "</div>"
      ],
      "text/plain": [
       "      Nom  Âge  Note\n",
       "1     Luc   22  17.2\n",
       "2  Neymar   32  19.7"
      ]
     },
     "execution_count": 24,
     "metadata": {},
     "output_type": "execute_result"
    }
   ],
   "source": [
    "df[(df['Âge']>21) & (df['Note'] > 10)]"
   ]
  },
  {
   "cell_type": "code",
   "execution_count": 32,
   "id": "d543cab2",
   "metadata": {},
   "outputs": [
    {
     "name": "stdout",
     "output_type": "stream",
     "text": [
      "      Nom  Âge  Note\n",
      "2  Neymar   32  19.7\n",
      "0  Alloma   21  18.5\n",
      "1     Luc   22  17.2\n",
      "\n",
      "55.400000000000006\n"
     ]
    }
   ],
   "source": [
    "sum = df['Note'].sum()\n",
    "tri = df.sort_values('Note', ascending=False)\n",
    "print(tri)\n",
    "print()\n",
    "print(sum)"
   ]
  },
  {
   "cell_type": "code",
   "execution_count": 33,
   "id": "3bc79968",
   "metadata": {},
   "outputs": [],
   "source": [
    "df.to_csv('data.csv', index = True)"
   ]
  },
  {
   "cell_type": "code",
   "execution_count": 39,
   "id": "10687782",
   "metadata": {},
   "outputs": [
    {
     "data": {
      "text/html": [
       "<div>\n",
       "<style scoped>\n",
       "    .dataframe tbody tr th:only-of-type {\n",
       "        vertical-align: middle;\n",
       "    }\n",
       "\n",
       "    .dataframe tbody tr th {\n",
       "        vertical-align: top;\n",
       "    }\n",
       "\n",
       "    .dataframe thead th {\n",
       "        text-align: right;\n",
       "    }\n",
       "</style>\n",
       "<table border=\"1\" class=\"dataframe\">\n",
       "  <thead>\n",
       "    <tr style=\"text-align: right;\">\n",
       "      <th></th>\n",
       "      <th>Âge</th>\n",
       "      <th>Note</th>\n",
       "    </tr>\n",
       "    <tr>\n",
       "      <th>Nom</th>\n",
       "      <th></th>\n",
       "      <th></th>\n",
       "    </tr>\n",
       "  </thead>\n",
       "  <tbody>\n",
       "    <tr>\n",
       "      <th>Alloma</th>\n",
       "      <td>NaN</td>\n",
       "      <td>NaN</td>\n",
       "    </tr>\n",
       "    <tr>\n",
       "      <th>Luc</th>\n",
       "      <td>NaN</td>\n",
       "      <td>NaN</td>\n",
       "    </tr>\n",
       "    <tr>\n",
       "      <th>Neymar</th>\n",
       "      <td>NaN</td>\n",
       "      <td>NaN</td>\n",
       "    </tr>\n",
       "  </tbody>\n",
       "</table>\n",
       "</div>"
      ],
      "text/plain": [
       "        Âge  Note\n",
       "Nom              \n",
       "Alloma  NaN   NaN\n",
       "Luc     NaN   NaN\n",
       "Neymar  NaN   NaN"
      ]
     },
     "execution_count": 39,
     "metadata": {},
     "output_type": "execute_result"
    }
   ],
   "source": [
    "df.groupby('Nom').std()"
   ]
  },
  {
   "cell_type": "code",
   "execution_count": 46,
   "id": "bd838ea7",
   "metadata": {},
   "outputs": [
    {
     "data": {
      "text/html": [
       "<div>\n",
       "<style scoped>\n",
       "    .dataframe tbody tr th:only-of-type {\n",
       "        vertical-align: middle;\n",
       "    }\n",
       "\n",
       "    .dataframe tbody tr th {\n",
       "        vertical-align: top;\n",
       "    }\n",
       "\n",
       "    .dataframe thead th {\n",
       "        text-align: right;\n",
       "    }\n",
       "</style>\n",
       "<table border=\"1\" class=\"dataframe\">\n",
       "  <thead>\n",
       "    <tr style=\"text-align: right;\">\n",
       "      <th></th>\n",
       "      <th>Nom</th>\n",
       "      <th>Âge</th>\n",
       "      <th>Note</th>\n",
       "      <th>status</th>\n",
       "    </tr>\n",
       "  </thead>\n",
       "  <tbody>\n",
       "    <tr>\n",
       "      <th>0</th>\n",
       "      <td>Alloma</td>\n",
       "      <td>26</td>\n",
       "      <td>18.5</td>\n",
       "      <td>adulte</td>\n",
       "    </tr>\n",
       "    <tr>\n",
       "      <th>1</th>\n",
       "      <td>Luc</td>\n",
       "      <td>27</td>\n",
       "      <td>17.2</td>\n",
       "      <td>adulte</td>\n",
       "    </tr>\n",
       "    <tr>\n",
       "      <th>2</th>\n",
       "      <td>Neymar</td>\n",
       "      <td>37</td>\n",
       "      <td>19.7</td>\n",
       "      <td>adulte</td>\n",
       "    </tr>\n",
       "  </tbody>\n",
       "</table>\n",
       "</div>"
      ],
      "text/plain": [
       "      Nom  Âge  Note  status\n",
       "0  Alloma   26  18.5  adulte\n",
       "1     Luc   27  17.2  adulte\n",
       "2  Neymar   37  19.7  adulte"
      ]
     },
     "execution_count": 46,
     "metadata": {},
     "output_type": "execute_result"
    }
   ],
   "source": [
    "df['Âge'] = df['Âge'].apply(lambda x: x + 1)\n",
    "df['status'] = df['Âge'].apply(lambda x: \"jeune\" if x < 25 else \"adulte\")\n",
    "df\n"
   ]
  }
 ],
 "metadata": {
  "kernelspec": {
   "display_name": ".venv",
   "language": "python",
   "name": "python3"
  },
  "language_info": {
   "codemirror_mode": {
    "name": "ipython",
    "version": 3
   },
   "file_extension": ".py",
   "mimetype": "text/x-python",
   "name": "python",
   "nbconvert_exporter": "python",
   "pygments_lexer": "ipython3",
   "version": "3.13.3"
  }
 },
 "nbformat": 4,
 "nbformat_minor": 5
}
